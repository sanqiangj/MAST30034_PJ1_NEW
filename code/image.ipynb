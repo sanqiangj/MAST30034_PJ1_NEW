{
 "cells": [
  {
   "cell_type": "code",
   "execution_count": null,
   "metadata": {},
   "outputs": [],
   "source": [
    "import pandas as pd\n",
    "import numpy as np\n",
    "\n",
    "import warnings\n",
    "warnings.filterwarnings(\"ignore\")"
   ]
  },
  {
   "cell_type": "code",
   "execution_count": null,
   "metadata": {},
   "outputs": [],
   "source": [
    "import folium\n",
    "from folium.plugins import FastMarkerCluster\n",
    "\n",
    "# lat, long\n",
    "COORDS = ['pickup_latitude', 'pickup_longitude']\n",
    "\n",
    "# create an interactive geospatial graph\n",
    "pickups_cluster = folium.Map(location=[40.66, -73.94], tiles=\"Stamen Terrain\", zoom_start=10)\n",
    "#pickups_cluster"
   ]
  },
  {
   "cell_type": "code",
   "execution_count": null,
   "metadata": {},
   "outputs": [],
   "source": [
    "# read in the data\n",
    "df = pd.read_feather(\"../preprocessed_data/cleaned_yellow_19.feather\").drop('index', axis=1)\n",
    "\n",
    "df.tail()"
   ]
  },
  {
   "cell_type": "code",
   "execution_count": null,
   "metadata": {},
   "outputs": [],
   "source": [
    "df.groupby('PULocationID')['final_amount'].count().reset_index().sort_values('final_amount', ascending=False)"
   ]
  },
  {
   "cell_type": "code",
   "execution_count": null,
   "metadata": {},
   "outputs": [],
   "source": [
    "df"
   ]
  },
  {
   "cell_type": "code",
   "execution_count": null,
   "metadata": {},
   "outputs": [],
   "source": [
    "import geopandas as gpd\n",
    "\n",
    "# sf stands for shape file\n",
    "sf = gpd.read_file(\"../raw_data/taxi_zones/taxi_zones.shp\")\n",
    "zone = pd.read_csv(\"../raw_data/taxi_zones/taxi+_zone_lookup.csv\")\n",
    "\n",
    "# Convert the geometry shaape to to latitude and longitude\n",
    "# Please attribute this if you are using it\n",
    "sf['geometry'] = sf['geometry'].to_crs(\"+proj=longlat +ellps=WGS84 +datum=WGS84 +no_defs\")"
   ]
  },
  {
   "cell_type": "code",
   "execution_count": null,
   "metadata": {},
   "outputs": [],
   "source": [
    "sf"
   ]
  },
  {
   "cell_type": "code",
   "execution_count": null,
   "metadata": {},
   "outputs": [],
   "source": [
    "sf.head()"
   ]
  },
  {
   "cell_type": "code",
   "execution_count": null,
   "metadata": {},
   "outputs": [],
   "source": [
    "gdf = gpd.GeoDataFrame(pd.merge(df, sf, left_on='PULocationID', right_on='LocationID')).drop('PULocationID',axis=1)\n",
    "gdf.sample(2)"
   ]
  },
  {
   "cell_type": "code",
   "execution_count": null,
   "metadata": {},
   "outputs": [],
   "source": [
    "geoJSON = gdf[['LocationID','geometry']].drop_duplicates('LocationID').to_json()"
   ]
  },
  {
   "cell_type": "code",
   "execution_count": null,
   "metadata": {},
   "outputs": [],
   "source": [
    "m = folium.Map(location=[40.66, -73.94], tiles=\"Stamen Terrain\", zoom_start=10)\n",
    "\n",
    "# refer to the folium documentations on how to plot aggregated data.\n",
    "m.add_child(folium.Choropleth(\n",
    "    geo_data=geoJSON,\n",
    "    name='choropleth',\n",
    "))\n",
    "\n",
    "m.save('../plots/foliumChoroplethMap.html')\n",
    "m"
   ]
  },
  {
   "cell_type": "code",
   "execution_count": null,
   "metadata": {},
   "outputs": [],
   "source": []
  },
  {
   "cell_type": "code",
   "execution_count": null,
   "metadata": {},
   "outputs": [],
   "source": [
    "import json\n",
    "\n",
    "# an example of what the geoJSON looks like\n",
    "json.loads(geoJSON)"
   ]
  },
  {
   "cell_type": "code",
   "execution_count": null,
   "metadata": {},
   "outputs": [],
   "source": [
    "gdf.loc[gdf['total_amount'] < 0]"
   ]
  },
  {
   "cell_type": "code",
   "execution_count": null,
   "metadata": {},
   "outputs": [],
   "source": [
    "gdf[['LocationID','total_amount']].groupby('LocationID').sum().reset_index()"
   ]
  },
  {
   "cell_type": "code",
   "execution_count": null,
   "metadata": {},
   "outputs": [],
   "source": [
    "m_trip_distance = folium.Map(location=[40.66, -73.94], tiles=\"Stamen Terrain\", zoom_start=10)\n",
    "\n",
    "# refer to the folium documentations on more information on how to plot aggregated data.\n",
    "folium.Choropleth(\n",
    "    geo_data=geoJSON, # geoJSON \n",
    "    name='choropleth', # name of plot\n",
    "    data=gdf, # data source\n",
    "    columns=['LocationID','total_amount'], # the columns required\n",
    "    key_on='properties.LocationID', # this is from the geoJSON's properties\n",
    "    fill_color='OrRd', # color scheme\n",
    "    fill_opacity=0.9,\n",
    "    line_opacity=0.5,\n",
    "    legend_name='Trips' # legend title\n",
    ").add_to(m_trip_distance)\n",
    "\n",
    "m_trip_distance.save('../plots/foliumChoroplethMapTrips.html')\n",
    "m_trip_distance"
   ]
  },
  {
   "cell_type": "code",
   "execution_count": null,
   "metadata": {},
   "outputs": [],
   "source": []
  },
  {
   "cell_type": "code",
   "execution_count": null,
   "metadata": {},
   "outputs": [],
   "source": []
  },
  {
   "cell_type": "code",
   "execution_count": null,
   "metadata": {},
   "outputs": [],
   "source": [
    "import pandas as pd\n",
    "import seaborn as sns\n",
    "import matplotlib.pyplot as plt"
   ]
  },
  {
   "cell_type": "code",
   "execution_count": null,
   "metadata": {},
   "outputs": [],
   "source": [
    "df = pd.read_feather(\"../preprocessed_data/cleaned_yellow_19.feather\").drop('index', axis=1)\n",
    "# describe our data\n",
    "df\n"
   ]
  },
  {
   "cell_type": "code",
   "execution_count": null,
   "metadata": {},
   "outputs": [],
   "source": [
    "df"
   ]
  },
  {
   "cell_type": "code",
   "execution_count": null,
   "metadata": {},
   "outputs": [],
   "source": [
    "df[['trip_distance','fare_amount']].plot.scatter(x='trip_distance',\n",
    "                                                  y='fare_amount')\n",
    "plt.show()"
   ]
  },
  {
   "cell_type": "code",
   "execution_count": null,
   "metadata": {},
   "outputs": [],
   "source": [
    "sns.distplot(df['fare_amount'], bins=30)\n",
    "\n",
    "plt.show()"
   ]
  },
  {
   "cell_type": "code",
   "execution_count": null,
   "metadata": {},
   "outputs": [],
   "source": [
    "from numpy import log, sqrt\n",
    "\n",
    "# apply a log transformation for all x non-zero x points, else 0\n",
    "def logify(x):\n",
    "    return log(x) if x else 0\n",
    "\n",
    "sns.distplot(df['fare_amount'].apply(logify), bins=50)\n",
    "plt.show()"
   ]
  },
  {
   "cell_type": "code",
   "execution_count": null,
   "metadata": {},
   "outputs": [],
   "source": [
    "sns.distplot(df['fare_amount'].apply(lambda x: log(x) if x else 0), bins=50)\n",
    "plt.show()"
   ]
  },
  {
   "cell_type": "code",
   "execution_count": null,
   "metadata": {},
   "outputs": [],
   "source": [
    "data = df.loc[df['trip_distance'] <= 15, 'trip_distance']\n",
    "\n",
    "sns.distplot(data, bins=30)\n",
    "plt.show()"
   ]
  },
  {
   "cell_type": "code",
   "execution_count": null,
   "metadata": {},
   "outputs": [],
   "source": [
    "# pearson (by default) correlation table for distance and fare amount\n",
    "df[['trip_distance','fare_amount']].corr(method='pearson')"
   ]
  },
  {
   "cell_type": "code",
   "execution_count": null,
   "metadata": {},
   "outputs": [],
   "source": [
    "sns.heatmap(df.corr())\n",
    "# wow that's easy...\n",
    "\n",
    "plt.show()"
   ]
  },
  {
   "cell_type": "code",
   "execution_count": null,
   "metadata": {},
   "outputs": [],
   "source": [
    "CORR_COLS = [\"trip_distance\", \"fare_amount\", \"tip_amount\",\"total_amount\",\"time_used\",\"avg_speed\",\"final_amount\",\"path\"]\n",
    "\n",
    "df[CORR_COLS].corr()"
   ]
  },
  {
   "cell_type": "code",
   "execution_count": null,
   "metadata": {},
   "outputs": [],
   "source": [
    "sns.heatmap(df[CORR_COLS].corr())\n",
    "plt.show()"
   ]
  },
  {
   "cell_type": "code",
   "execution_count": null,
   "metadata": {},
   "outputs": [],
   "source": [
    "# dataframes method that may be of use\n",
    "MAX = df['final_amount'].max()\n",
    "MIN = df['final_amount'].min()\n",
    "SD = df['final_amount'].std()\n",
    "IQR = df['final_amount'].quantile()\n",
    "N = len(df)"
   ]
  },
  {
   "cell_type": "code",
   "execution_count": null,
   "metadata": {},
   "outputs": [],
   "source": [
    "from numpy import log, log2\n",
    "\n",
    "def sturges(x):\n",
    "    return int(log2(x)) + 1\n",
    "\n",
    "def rice(x):\n",
    "    return int(2 * x ** (1/3))\n",
    "\n",
    "def scott(large, small, sd, x):\n",
    "    return int((large - small) / (3.5 * (sd/x ** (1/3))))\n",
    "\n",
    "def freedman(large, small, iqr, x):\n",
    "    return int((large - small) / (2 * (iqr/x ** (1/3))))\n",
    "    \n",
    "def square(x):\n",
    "    return int(sqrt(x))\n",
    "\n",
    "def logify(x):\n",
    "    return log(x) if x else 0"
   ]
  },
  {
   "cell_type": "code",
   "execution_count": null,
   "metadata": {},
   "outputs": [],
   "source": [
    "fig1 = sns.distplot(df['final_amount'], bins=sturges(N))\n",
    "plt.title(\"Sturges Binnings\")\n",
    "plt.show()\n",
    "\n",
    "fig2 = sns.distplot(df['final_amount'], bins=rice(N))\n",
    "plt.title(\"Rice Binnings\")\n",
    "plt.show()\n",
    "\n",
    "fig3 = sns.distplot(df['final_amount'], bins=scott(MAX, MIN, SD, N))\n",
    "plt.title(\"Scott Binnings\")\n",
    "plt.show()\n",
    "\n",
    "fig4 = sns.distplot(df['final_amount'], bins=freedman(MAX, MIN, IQR, N))\n",
    "plt.title(\"Freedman Binnings\")\n",
    "plt.show()\n",
    "\n",
    "fig5 = sns.distplot(df['final_amount'], bins=square(N))\n",
    "plt.title(\"Square Binnings\")\n",
    "#plt.show()"
   ]
  },
  {
   "cell_type": "code",
   "execution_count": null,
   "metadata": {},
   "outputs": [],
   "source": [
    "fig1 = sns.distplot(df['final_amount'].apply(logify), bins=sturges(N))\n",
    "plt.title(\"log Sturges Binnings\")\n",
    "plt.show()\n",
    "\n",
    "fig2 = sns.distplot(df['final_amount'].apply(logify), bins=rice(N))\n",
    "plt.title(\"log Rice Binnings\")\n",
    "plt.show()\n",
    "\n",
    "fig3 = sns.distplot(df['final_amount'].apply(logify), bins=scott(MAX, MIN, SD, N))\n",
    "plt.title(\"log Scott Binnings\")\n",
    "plt.show()\n",
    "\n",
    "fig4 = sns.distplot(df['final_amount'].apply(logify), bins=freedman(MAX, MIN, IQR, N))\n",
    "plt.title(\"log Freedman Binnings\")\n",
    "plt.show()\n",
    "\n",
    "fig5 = sns.distplot(df['final_amount'].apply(logify), bins=square(N))\n",
    "plt.title(\"log Square Binnings\")\n",
    "plt.show()"
   ]
  },
  {
   "cell_type": "code",
   "execution_count": null,
   "metadata": {},
   "outputs": [],
   "source": []
  }
 ],
 "metadata": {
  "kernelspec": {
   "display_name": "Python 3 (Anaconda 3)",
   "language": "python",
   "name": "python3"
  },
  "language_info": {
   "codemirror_mode": {
    "name": "ipython",
    "version": 3
   },
   "file_extension": ".py",
   "mimetype": "text/x-python",
   "name": "python",
   "nbconvert_exporter": "python",
   "pygments_lexer": "ipython3",
   "version": "3.8.2"
  }
 },
 "nbformat": 4,
 "nbformat_minor": 4
}
