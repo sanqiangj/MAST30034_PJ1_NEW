{
 "cells": [
  {
   "cell_type": "code",
   "execution_count": 1,
   "metadata": {},
   "outputs": [
    {
     "name": "stdout",
     "output_type": "stream",
     "text": [
      "Done downloading yellow_tripdata_2019-01.csv to ../raw_data/yellow with size 0.64GB\n",
      "Done downloading yellow_tripdata_2019-04.csv to ../raw_data/yellow with size 0.64GB\n",
      "Done downloading yellow_tripdata_2019-07.csv to ../raw_data/yellow with size 0.54GB\n",
      "Done downloading yellow_tripdata_2019-10.csv to ../raw_data/yellow with size 0.62GB\n",
      "Done downloading yellow_tripdata_2019-12.csv to ../raw_data/yellow with size 0.60GB\n"
     ]
    }
   ],
   "source": [
    "# Reference\n",
    "#the code in this file are provided by the tutotial from https://github.com/akiratwang/MAST30034_Python\n",
    "#\n",
    "\n",
    "from os.path import getsize\n",
    "from urllib.request import urlretrieve\n",
    "#need to create the folder raw_data and folder yellow inside the raw_data folder if they are not exist!!!!\n",
    "output_dir = \"../raw_data/yellow\"\n",
    "\n",
    "# template for the type of taxi / year you wish to download\n",
    "fname_template = \"yellow_tripdata_2019\"\n",
    "\n",
    "# change range(x, y) to be the months you want\n",
    "a = [1,4,7,10,12]\n",
    "for m in a:\n",
    "    month = str(m).zfill(2)\n",
    "    out = f'{fname_template}-{month}.csv'\n",
    "    url = f\"https://s3.amazonaws.com/nyc-tlc/trip+data/{out}\"\n",
    "    urlretrieve(url, f\"{output_dir}/{out}\")\n",
    "\n",
    "    print(f\"Done downloading {out} to {output_dir} with size {getsize(f'{output_dir}/{out}') / 1073741824:.2f}GB\")"
   ]
  },
  {
   "cell_type": "code",
   "execution_count": null,
   "metadata": {},
   "outputs": [],
   "source": []
  }
 ],
 "metadata": {
  "kernelspec": {
   "display_name": "Python 3 (Anaconda 3)",
   "language": "python",
   "name": "python3"
  },
  "language_info": {
   "codemirror_mode": {
    "name": "ipython",
    "version": 3
   },
   "file_extension": ".py",
   "mimetype": "text/x-python",
   "name": "python",
   "nbconvert_exporter": "python",
   "pygments_lexer": "ipython3",
   "version": "3.8.2"
  }
 },
 "nbformat": 4,
 "nbformat_minor": 4
}
