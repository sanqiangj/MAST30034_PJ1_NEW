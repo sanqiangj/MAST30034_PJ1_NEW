{
 "cells": [
  {
   "cell_type": "code",
   "execution_count": 1,
   "metadata": {},
   "outputs": [],
   "source": [
    "import pandas as pd\n",
    "import numpy as np\n",
    "\n",
    "import warnings\n",
    "warnings.filterwarnings(\"ignore\")"
   ]
  },
  {
   "cell_type": "code",
   "execution_count": 2,
   "metadata": {},
   "outputs": [
    {
     "data": {
      "text/html": [
       "<div>\n",
       "<style scoped>\n",
       "    .dataframe tbody tr th:only-of-type {\n",
       "        vertical-align: middle;\n",
       "    }\n",
       "\n",
       "    .dataframe tbody tr th {\n",
       "        vertical-align: top;\n",
       "    }\n",
       "\n",
       "    .dataframe thead th {\n",
       "        text-align: right;\n",
       "    }\n",
       "</style>\n",
       "<table border=\"1\" class=\"dataframe\">\n",
       "  <thead>\n",
       "    <tr style=\"text-align: right;\">\n",
       "      <th></th>\n",
       "      <th>tpep_pickup_datetime</th>\n",
       "      <th>tpep_dropoff_datetime</th>\n",
       "      <th>trip_distance</th>\n",
       "      <th>PULocationID</th>\n",
       "      <th>DOLocationID</th>\n",
       "      <th>fare_amount</th>\n",
       "      <th>tip_amount</th>\n",
       "      <th>total_amount</th>\n",
       "      <th>time_used</th>\n",
       "      <th>avg_speed</th>\n",
       "      <th>final_amount</th>\n",
       "    </tr>\n",
       "  </thead>\n",
       "  <tbody>\n",
       "    <tr>\n",
       "      <th>0</th>\n",
       "      <td>2019-10-01 00:29:01</td>\n",
       "      <td>2019-10-01 00:34:58</td>\n",
       "      <td>1.00</td>\n",
       "      <td>7</td>\n",
       "      <td>7</td>\n",
       "      <td>6.0</td>\n",
       "      <td>0.00</td>\n",
       "      <td>7.30</td>\n",
       "      <td>5.950000</td>\n",
       "      <td>10.084034</td>\n",
       "      <td>7.30</td>\n",
       "    </tr>\n",
       "    <tr>\n",
       "      <th>1</th>\n",
       "      <td>2019-10-01 00:06:02</td>\n",
       "      <td>2019-10-01 00:11:15</td>\n",
       "      <td>1.44</td>\n",
       "      <td>230</td>\n",
       "      <td>90</td>\n",
       "      <td>6.0</td>\n",
       "      <td>1.96</td>\n",
       "      <td>11.76</td>\n",
       "      <td>5.216667</td>\n",
       "      <td>16.562300</td>\n",
       "      <td>14.26</td>\n",
       "    </tr>\n",
       "    <tr>\n",
       "      <th>2</th>\n",
       "      <td>2019-10-01 00:25:23</td>\n",
       "      <td>2019-10-01 00:35:11</td>\n",
       "      <td>1.70</td>\n",
       "      <td>249</td>\n",
       "      <td>79</td>\n",
       "      <td>8.5</td>\n",
       "      <td>2.46</td>\n",
       "      <td>14.76</td>\n",
       "      <td>9.800000</td>\n",
       "      <td>10.408163</td>\n",
       "      <td>17.26</td>\n",
       "    </tr>\n",
       "    <tr>\n",
       "      <th>3</th>\n",
       "      <td>2019-10-01 00:18:36</td>\n",
       "      <td>2019-10-01 00:30:30</td>\n",
       "      <td>1.49</td>\n",
       "      <td>162</td>\n",
       "      <td>229</td>\n",
       "      <td>9.5</td>\n",
       "      <td>2.66</td>\n",
       "      <td>15.96</td>\n",
       "      <td>11.900000</td>\n",
       "      <td>7.512605</td>\n",
       "      <td>18.46</td>\n",
       "    </tr>\n",
       "    <tr>\n",
       "      <th>4</th>\n",
       "      <td>2019-10-01 00:32:11</td>\n",
       "      <td>2019-10-01 00:40:26</td>\n",
       "      <td>2.20</td>\n",
       "      <td>132</td>\n",
       "      <td>132</td>\n",
       "      <td>8.5</td>\n",
       "      <td>0.00</td>\n",
       "      <td>9.80</td>\n",
       "      <td>8.250000</td>\n",
       "      <td>16.000000</td>\n",
       "      <td>9.80</td>\n",
       "    </tr>\n",
       "    <tr>\n",
       "      <th>...</th>\n",
       "      <td>...</td>\n",
       "      <td>...</td>\n",
       "      <td>...</td>\n",
       "      <td>...</td>\n",
       "      <td>...</td>\n",
       "      <td>...</td>\n",
       "      <td>...</td>\n",
       "      <td>...</td>\n",
       "      <td>...</td>\n",
       "      <td>...</td>\n",
       "      <td>...</td>\n",
       "    </tr>\n",
       "    <tr>\n",
       "      <th>18414208</th>\n",
       "      <td>2019-04-30 23:18:24</td>\n",
       "      <td>2019-04-30 23:25:34</td>\n",
       "      <td>1.73</td>\n",
       "      <td>237</td>\n",
       "      <td>239</td>\n",
       "      <td>7.5</td>\n",
       "      <td>2.26</td>\n",
       "      <td>13.56</td>\n",
       "      <td>7.166667</td>\n",
       "      <td>14.483721</td>\n",
       "      <td>16.06</td>\n",
       "    </tr>\n",
       "    <tr>\n",
       "      <th>18414209</th>\n",
       "      <td>2019-04-30 23:44:01</td>\n",
       "      <td>2019-04-30 23:48:32</td>\n",
       "      <td>0.93</td>\n",
       "      <td>237</td>\n",
       "      <td>237</td>\n",
       "      <td>5.5</td>\n",
       "      <td>0.00</td>\n",
       "      <td>9.30</td>\n",
       "      <td>4.516667</td>\n",
       "      <td>12.354244</td>\n",
       "      <td>11.80</td>\n",
       "    </tr>\n",
       "    <tr>\n",
       "      <th>18414210</th>\n",
       "      <td>2019-04-30 23:49:10</td>\n",
       "      <td>2019-04-30 23:58:11</td>\n",
       "      <td>1.97</td>\n",
       "      <td>237</td>\n",
       "      <td>100</td>\n",
       "      <td>9.0</td>\n",
       "      <td>2.56</td>\n",
       "      <td>15.36</td>\n",
       "      <td>9.016667</td>\n",
       "      <td>13.109057</td>\n",
       "      <td>17.86</td>\n",
       "    </tr>\n",
       "    <tr>\n",
       "      <th>18414211</th>\n",
       "      <td>2019-04-30 23:03:35</td>\n",
       "      <td>2019-04-30 23:12:49</td>\n",
       "      <td>1.55</td>\n",
       "      <td>142</td>\n",
       "      <td>141</td>\n",
       "      <td>8.5</td>\n",
       "      <td>3.69</td>\n",
       "      <td>15.99</td>\n",
       "      <td>9.233333</td>\n",
       "      <td>10.072202</td>\n",
       "      <td>18.49</td>\n",
       "    </tr>\n",
       "    <tr>\n",
       "      <th>18414212</th>\n",
       "      <td>2019-04-30 23:26:25</td>\n",
       "      <td>2019-04-30 23:29:32</td>\n",
       "      <td>1.21</td>\n",
       "      <td>237</td>\n",
       "      <td>263</td>\n",
       "      <td>5.5</td>\n",
       "      <td>1.50</td>\n",
       "      <td>10.80</td>\n",
       "      <td>3.116667</td>\n",
       "      <td>23.294118</td>\n",
       "      <td>13.30</td>\n",
       "    </tr>\n",
       "  </tbody>\n",
       "</table>\n",
       "<p>18414213 rows × 11 columns</p>\n",
       "</div>"
      ],
      "text/plain": [
       "         tpep_pickup_datetime tpep_dropoff_datetime  trip_distance  \\\n",
       "0         2019-10-01 00:29:01   2019-10-01 00:34:58           1.00   \n",
       "1         2019-10-01 00:06:02   2019-10-01 00:11:15           1.44   \n",
       "2         2019-10-01 00:25:23   2019-10-01 00:35:11           1.70   \n",
       "3         2019-10-01 00:18:36   2019-10-01 00:30:30           1.49   \n",
       "4         2019-10-01 00:32:11   2019-10-01 00:40:26           2.20   \n",
       "...                       ...                   ...            ...   \n",
       "18414208  2019-04-30 23:18:24   2019-04-30 23:25:34           1.73   \n",
       "18414209  2019-04-30 23:44:01   2019-04-30 23:48:32           0.93   \n",
       "18414210  2019-04-30 23:49:10   2019-04-30 23:58:11           1.97   \n",
       "18414211  2019-04-30 23:03:35   2019-04-30 23:12:49           1.55   \n",
       "18414212  2019-04-30 23:26:25   2019-04-30 23:29:32           1.21   \n",
       "\n",
       "          PULocationID  DOLocationID  fare_amount  tip_amount  total_amount  \\\n",
       "0                    7             7          6.0        0.00          7.30   \n",
       "1                  230            90          6.0        1.96         11.76   \n",
       "2                  249            79          8.5        2.46         14.76   \n",
       "3                  162           229          9.5        2.66         15.96   \n",
       "4                  132           132          8.5        0.00          9.80   \n",
       "...                ...           ...          ...         ...           ...   \n",
       "18414208           237           239          7.5        2.26         13.56   \n",
       "18414209           237           237          5.5        0.00          9.30   \n",
       "18414210           237           100          9.0        2.56         15.36   \n",
       "18414211           142           141          8.5        3.69         15.99   \n",
       "18414212           237           263          5.5        1.50         10.80   \n",
       "\n",
       "          time_used  avg_speed  final_amount  \n",
       "0          5.950000  10.084034          7.30  \n",
       "1          5.216667  16.562300         14.26  \n",
       "2          9.800000  10.408163         17.26  \n",
       "3         11.900000   7.512605         18.46  \n",
       "4          8.250000  16.000000          9.80  \n",
       "...             ...        ...           ...  \n",
       "18414208   7.166667  14.483721         16.06  \n",
       "18414209   4.516667  12.354244         11.80  \n",
       "18414210   9.016667  13.109057         17.86  \n",
       "18414211   9.233333  10.072202         18.49  \n",
       "18414212   3.116667  23.294118         13.30  \n",
       "\n",
       "[18414213 rows x 11 columns]"
      ]
     },
     "execution_count": 2,
     "metadata": {},
     "output_type": "execute_result"
    }
   ],
   "source": [
    "# read in the data\n",
    "df = pd.read_feather(\"../preprocessed_data/cleaned_yellow_19_3IQR.feather\").drop('index', axis=1)\n",
    "\n",
    "df"
   ]
  },
  {
   "cell_type": "code",
   "execution_count": null,
   "metadata": {},
   "outputs": [],
   "source": []
  },
  {
   "cell_type": "code",
   "execution_count": 5,
   "metadata": {},
   "outputs": [],
   "source": [
    "X = df[[\"trip_distance\",\"time_used\",\"avg_speed\"]]"
   ]
  },
  {
   "cell_type": "code",
   "execution_count": 7,
   "metadata": {},
   "outputs": [],
   "source": [
    "Y = df[[\"fare_amount\"]]"
   ]
  },
  {
   "cell_type": "code",
   "execution_count": 8,
   "metadata": {},
   "outputs": [
    {
     "data": {
      "text/html": [
       "<div>\n",
       "<style scoped>\n",
       "    .dataframe tbody tr th:only-of-type {\n",
       "        vertical-align: middle;\n",
       "    }\n",
       "\n",
       "    .dataframe tbody tr th {\n",
       "        vertical-align: top;\n",
       "    }\n",
       "\n",
       "    .dataframe thead th {\n",
       "        text-align: right;\n",
       "    }\n",
       "</style>\n",
       "<table border=\"1\" class=\"dataframe\">\n",
       "  <thead>\n",
       "    <tr style=\"text-align: right;\">\n",
       "      <th></th>\n",
       "      <th>fare_amount</th>\n",
       "    </tr>\n",
       "  </thead>\n",
       "  <tbody>\n",
       "    <tr>\n",
       "      <th>0</th>\n",
       "      <td>6.0</td>\n",
       "    </tr>\n",
       "    <tr>\n",
       "      <th>1</th>\n",
       "      <td>6.0</td>\n",
       "    </tr>\n",
       "    <tr>\n",
       "      <th>2</th>\n",
       "      <td>8.5</td>\n",
       "    </tr>\n",
       "    <tr>\n",
       "      <th>3</th>\n",
       "      <td>9.5</td>\n",
       "    </tr>\n",
       "    <tr>\n",
       "      <th>4</th>\n",
       "      <td>8.5</td>\n",
       "    </tr>\n",
       "    <tr>\n",
       "      <th>...</th>\n",
       "      <td>...</td>\n",
       "    </tr>\n",
       "    <tr>\n",
       "      <th>18414208</th>\n",
       "      <td>7.5</td>\n",
       "    </tr>\n",
       "    <tr>\n",
       "      <th>18414209</th>\n",
       "      <td>5.5</td>\n",
       "    </tr>\n",
       "    <tr>\n",
       "      <th>18414210</th>\n",
       "      <td>9.0</td>\n",
       "    </tr>\n",
       "    <tr>\n",
       "      <th>18414211</th>\n",
       "      <td>8.5</td>\n",
       "    </tr>\n",
       "    <tr>\n",
       "      <th>18414212</th>\n",
       "      <td>5.5</td>\n",
       "    </tr>\n",
       "  </tbody>\n",
       "</table>\n",
       "<p>18414213 rows × 1 columns</p>\n",
       "</div>"
      ],
      "text/plain": [
       "          fare_amount\n",
       "0                 6.0\n",
       "1                 6.0\n",
       "2                 8.5\n",
       "3                 9.5\n",
       "4                 8.5\n",
       "...               ...\n",
       "18414208          7.5\n",
       "18414209          5.5\n",
       "18414210          9.0\n",
       "18414211          8.5\n",
       "18414212          5.5\n",
       "\n",
       "[18414213 rows x 1 columns]"
      ]
     },
     "execution_count": 8,
     "metadata": {},
     "output_type": "execute_result"
    }
   ],
   "source": [
    "Y"
   ]
  },
  {
   "cell_type": "code",
   "execution_count": 13,
   "metadata": {},
   "outputs": [],
   "source": [
    "from sklearn.model_selection import train_test_split\n",
    "x_train,x_test,y_train,y_test = train_test_split(X,Y,test_size = 0.2)"
   ]
  },
  {
   "cell_type": "code",
   "execution_count": 16,
   "metadata": {},
   "outputs": [],
   "source": [
    "import sklearn.datasets as skdata\n",
    "import matplotlib.pyplot as plt\n",
    "import seaborn as sns\n",
    "import sklearn.neighbors as skneighbors\n",
    "import sklearn.preprocessing as skprep\n"
   ]
  },
  {
   "cell_type": "markdown",
   "metadata": {},
   "source": [
    "# linear regression\n",
    "\n"
   ]
  },
  {
   "cell_type": "code",
   "execution_count": 27,
   "metadata": {},
   "outputs": [],
   "source": [
    "import matplotlib.pyplot as plt\n",
    "from sklearn.linear_model import LinearRegression"
   ]
  },
  {
   "cell_type": "code",
   "execution_count": 28,
   "metadata": {},
   "outputs": [],
   "source": [
    "linearg = LinearRegression()"
   ]
  },
  {
   "cell_type": "code",
   "execution_count": 30,
   "metadata": {},
   "outputs": [
    {
     "data": {
      "text/plain": [
       "LinearRegression()"
      ]
     },
     "execution_count": 30,
     "metadata": {},
     "output_type": "execute_result"
    }
   ],
   "source": [
    "linearg.fit(x_train,y_train)"
   ]
  },
  {
   "cell_type": "code",
   "execution_count": 31,
   "metadata": {},
   "outputs": [],
   "source": [
    "y_result = linearg.predict(x_test)"
   ]
  },
  {
   "cell_type": "code",
   "execution_count": 40,
   "metadata": {},
   "outputs": [
    {
     "name": "stdout",
     "output_type": "stream",
     "text": [
      "44194110\n",
      "14731370\n",
      "11048529\n",
      "3682843\n",
      "3682843\n"
     ]
    }
   ],
   "source": [
    "print(x_train.size)\n",
    "print(y_train.size)\n",
    "print(x_test.size)\n",
    "print(y_result.size)\n",
    "print(y_test.size)"
   ]
  },
  {
   "cell_type": "code",
   "execution_count": 42,
   "metadata": {},
   "outputs": [
    {
     "name": "stdout",
     "output_type": "stream",
     "text": [
      "[[ 1.76416845  0.38228231 -0.00319541]]\n"
     ]
    }
   ],
   "source": [
    "print(linearg.coef_)"
   ]
  },
  {
   "cell_type": "code",
   "execution_count": 43,
   "metadata": {},
   "outputs": [
    {
     "name": "stdout",
     "output_type": "stream",
     "text": [
      "[2.05465457]\n"
     ]
    }
   ],
   "source": [
    "print(linearg.intercept_)"
   ]
  },
  {
   "cell_type": "code",
   "execution_count": 50,
   "metadata": {},
   "outputs": [
    {
     "name": "stdout",
     "output_type": "stream",
     "text": [
      "mse: fare_amount    0.278793\n",
      "dtype: float64\n"
     ]
    }
   ],
   "source": [
    "sum = 0\n",
    "rows = len(y_result)\n",
    "for i in range(rows):\n",
    "    t = y_test.iloc[i]\n",
    "    p = y_result[i]\n",
    "    diff = (t-p)**2\n",
    "    sum = sum+diff\n",
    "mse = sum/rows\n",
    "print(\"mse:\",mse)"
   ]
  },
  {
   "cell_type": "code",
   "execution_count": 47,
   "metadata": {},
   "outputs": [
    {
     "data": {
      "text/plain": [
       "3682843"
      ]
     },
     "execution_count": 47,
     "metadata": {},
     "output_type": "execute_result"
    }
   ],
   "source": []
  },
  {
   "cell_type": "code",
   "execution_count": 51,
   "metadata": {},
   "outputs": [
    {
     "data": {
      "text/plain": [
       "array([[ 3.70042515],\n",
       "       [11.12307797],\n",
       "       [22.60016806],\n",
       "       ...,\n",
       "       [ 8.97161847],\n",
       "       [14.373183  ],\n",
       "       [20.80368985]])"
      ]
     },
     "execution_count": 51,
     "metadata": {},
     "output_type": "execute_result"
    }
   ],
   "source": [
    "y_result"
   ]
  },
  {
   "cell_type": "code",
   "execution_count": 52,
   "metadata": {},
   "outputs": [
    {
     "data": {
      "text/html": [
       "<div>\n",
       "<style scoped>\n",
       "    .dataframe tbody tr th:only-of-type {\n",
       "        vertical-align: middle;\n",
       "    }\n",
       "\n",
       "    .dataframe tbody tr th {\n",
       "        vertical-align: top;\n",
       "    }\n",
       "\n",
       "    .dataframe thead th {\n",
       "        text-align: right;\n",
       "    }\n",
       "</style>\n",
       "<table border=\"1\" class=\"dataframe\">\n",
       "  <thead>\n",
       "    <tr style=\"text-align: right;\">\n",
       "      <th></th>\n",
       "      <th>fare_amount</th>\n",
       "    </tr>\n",
       "  </thead>\n",
       "  <tbody>\n",
       "    <tr>\n",
       "      <th>3841793</th>\n",
       "      <td>4.0</td>\n",
       "    </tr>\n",
       "    <tr>\n",
       "      <th>12269512</th>\n",
       "      <td>10.5</td>\n",
       "    </tr>\n",
       "    <tr>\n",
       "      <th>3151364</th>\n",
       "      <td>22.5</td>\n",
       "    </tr>\n",
       "    <tr>\n",
       "      <th>13724598</th>\n",
       "      <td>11.0</td>\n",
       "    </tr>\n",
       "    <tr>\n",
       "      <th>2848542</th>\n",
       "      <td>9.0</td>\n",
       "    </tr>\n",
       "    <tr>\n",
       "      <th>...</th>\n",
       "      <td>...</td>\n",
       "    </tr>\n",
       "    <tr>\n",
       "      <th>595524</th>\n",
       "      <td>10.5</td>\n",
       "    </tr>\n",
       "    <tr>\n",
       "      <th>10282018</th>\n",
       "      <td>19.0</td>\n",
       "    </tr>\n",
       "    <tr>\n",
       "      <th>7441576</th>\n",
       "      <td>9.0</td>\n",
       "    </tr>\n",
       "    <tr>\n",
       "      <th>9005578</th>\n",
       "      <td>14.0</td>\n",
       "    </tr>\n",
       "    <tr>\n",
       "      <th>15609397</th>\n",
       "      <td>22.0</td>\n",
       "    </tr>\n",
       "  </tbody>\n",
       "</table>\n",
       "<p>3682843 rows × 1 columns</p>\n",
       "</div>"
      ],
      "text/plain": [
       "          fare_amount\n",
       "3841793           4.0\n",
       "12269512         10.5\n",
       "3151364          22.5\n",
       "13724598         11.0\n",
       "2848542           9.0\n",
       "...               ...\n",
       "595524           10.5\n",
       "10282018         19.0\n",
       "7441576           9.0\n",
       "9005578          14.0\n",
       "15609397         22.0\n",
       "\n",
       "[3682843 rows x 1 columns]"
      ]
     },
     "execution_count": 52,
     "metadata": {},
     "output_type": "execute_result"
    }
   ],
   "source": [
    "y_test"
   ]
  },
  {
   "cell_type": "code",
   "execution_count": 54,
   "metadata": {},
   "outputs": [
    {
     "data": {
      "image/png": "[encoded data removed]",
      "text/plain": [
       "<Figure size 432x288 with 1 Axes>"
      ]
     },
     "metadata": {
      "needs_background": "light"
     },
     "output_type": "display_data"
    }
   ],
   "source": [
    "%matplotlib inline\n",
    "\n",
    "plt.scatter(y_test,y_result,color = \"black\")\n",
    "\n",
    "x0 = min(y_test)\n",
    "x1 = max(y_test)\n",
    "y0 = min(y_result)\n",
    "y1 = max(y_result)\n",
    "plt.plot([x0,x1],[y0,y1],color=\"red\")\n",
    "\n",
    "plt.xlabel(\"Actual fare amount\")\n",
    "plt.ylabel(\"Predicted fare amount\")\n",
    "plt.title(\"vs\")\n",
    "plt.show()"
   ]
  },
  {
   "cell_type": "markdown",
   "metadata": {},
   "source": [
    "#  AIC "
   ]
  },
  {
   "cell_type": "code",
   "execution_count": 57,
   "metadata": {},
   "outputs": [
    {
     "data": {
      "text/plain": [
       "0.0"
      ]
     },
     "execution_count": 57,
     "metadata": {},
     "output_type": "execute_result"
    }
   ],
   "source": [
    "import time\n",
    "from sklearn.linear_model import LassoLarsIC\n",
    "model_aic = LassoLarsIC(criterion='aic')\n",
    "model_aic.fit(X, Y)\n",
    "alpha_aic_ = model_aic.alpha_\n",
    "alpha_aic_ "
   ]
  },
  {
   "cell_type": "code",
   "execution_count": null,
   "metadata": {},
   "outputs": [],
   "source": []
  }
 ],
 "metadata": {
  "kernelspec": {
   "display_name": "Python 3 (Anaconda 3)",
   "language": "python",
   "name": "python3"
  },
  "language_info": {
   "codemirror_mode": {
    "name": "ipython",
    "version": 3
   },
   "file_extension": ".py",
   "mimetype": "text/x-python",
   "name": "python",
   "nbconvert_exporter": "python",
   "pygments_lexer": "ipython3",
   "version": "3.8.2"
  }
 },
 "nbformat": 4,
 "nbformat_minor": 4
}
